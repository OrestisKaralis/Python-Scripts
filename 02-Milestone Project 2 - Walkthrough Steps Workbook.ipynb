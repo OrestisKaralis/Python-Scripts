{
 "cells": [
  {
   "cell_type": "markdown",
   "metadata": {},
   "source": [
    "___\n",
    "\n",
    "<a href='https://www.udemy.com/user/joseportilla/'><img src='../Pierian_Data_Logo.png'/></a>\n",
    "___\n",
    "<center><em>Content Copyright by Pierian Data</em></center>"
   ]
  },
  {
   "cell_type": "markdown",
   "metadata": {
    "collapsed": true
   },
   "source": [
    "# Milestone Project 2 - Walkthrough Steps Workbook\n",
    "Below is a set of steps for you to follow to try to create the Blackjack Milestone Project game!"
   ]
  },
  {
   "cell_type": "markdown",
   "metadata": {},
   "source": [
    "## Game Play\n",
    "To play a hand of Blackjack the following steps must be followed:\n",
    "1. Create a deck of 52 cards\n",
    "2. Shuffle the deck\n",
    "3. Ask the Player for their bet\n",
    "4. Make sure that the Player's bet does not exceed their available chips\n",
    "5. Deal two cards to the Dealer and two cards to the Player\n",
    "6. Show only one of the Dealer's cards, the other remains hidden\n",
    "7. Show both of the Player's cards\n",
    "8. Ask the Player if they wish to Hit, and take another card\n",
    "9. If the Player's hand doesn't Bust (go over 21), ask if they'd like to Hit again.\n",
    "10. If a Player Stands, play the Dealer's hand. The dealer will always Hit until the Dealer's value meets or exceeds 17\n",
    "11. Determine the winner and adjust the Player's chips accordingly\n",
    "12. Ask the Player if they'd like to play again"
   ]
  },
  {
   "cell_type": "markdown",
   "metadata": {},
   "source": [
    "## Playing Cards\n",
    "A standard deck of playing cards has four suits (Hearts, Diamonds, Spades and Clubs) and thirteen ranks (2 through 10, then the face cards Jack, Queen, King and Ace) for a total of 52 cards per deck. Jacks, Queens and Kings all have a rank of 10. Aces have a rank of either 11 or 1 as needed to reach 21 without busting. As a starting point in your program, you may want to assign variables to store a list of suits, ranks, and then use a dictionary to map ranks to values."
   ]
  },
  {
   "cell_type": "markdown",
   "metadata": {},
   "source": [
    "## The Game\n",
    "### Imports and Global Variables\n",
    "** Step 1: Import the random module. This will be used to shuffle the deck prior to dealing. Then, declare variables to store suits, ranks and values. You can develop your own system, or copy ours below. Finally, declare a Boolean value to be used to control <code>while</code> loops. This is a common practice used to control the flow of the game.**\n",
    "\n",
    "    suits = ('Hearts', 'Diamonds', 'Spades', 'Clubs')\n",
    "    ranks = ('Two', 'Three', 'Four', 'Five', 'Six', 'Seven', 'Eight', 'Nine', 'Ten', 'Jack', 'Queen', 'King', 'Ace')\n",
    "    values = {'Two':2, 'Three':3, 'Four':4, 'Five':5, 'Six':6, 'Seven':7, 'Eight':8, 'Nine':9, 'Ten':10, 'Jack':10,\n",
    "             'Queen':10, 'King':10, 'Ace':11}"
   ]
  },
  {
   "cell_type": "code",
   "execution_count": 1,
   "metadata": {},
   "outputs": [],
   "source": [
    "import random\n",
    "\n",
    "suits = ('Hearts', 'Diamonds', 'Spades', 'Clubs')\n",
    "ranks = ('Two', 'Three', 'Four', 'Five', 'Six', 'Seven', 'Eight', 'Nine', 'Ten', 'Jack', 'Queen', 'King', 'Ace')\n",
    "values = {'Two':2, 'Three':3, 'Four':4, 'Five':5, 'Six':6, 'Seven':7, 'Eight':8, 'Nine':9, 'Ten':10, 'Jack':10,\n",
    "         'Queen':10, 'King':10, 'Ace':11}\n",
    "\n",
    "playing = True"
   ]
  },
  {
   "cell_type": "markdown",
   "metadata": {},
   "source": [
    "### Class Definitions\n",
    "Consider making a Card class where each Card object has a suit and a rank, then a Deck class to hold all 52 Card objects, and can be shuffled, and finally a Hand class that holds those Cards that have been dealt to each player from the Deck."
   ]
  },
  {
   "cell_type": "markdown",
   "metadata": {},
   "source": [
    "**Step 2: Create a Card Class**<br>\n",
    "A Card object really only needs two attributes: suit and rank. You might add an attribute for \"value\" - we chose to handle value later when developing our Hand class.<br>In addition to the Card's \\_\\_init\\_\\_ method, consider adding a \\_\\_str\\_\\_ method that, when asked to print a Card, returns a string in the form \"Two of Hearts\""
   ]
  },
  {
   "cell_type": "code",
   "execution_count": 2,
   "metadata": {},
   "outputs": [],
   "source": [
    "class Card:\n",
    "    \n",
    "    def __init__(self, suit, rank):\n",
    "        self.suit=suit\n",
    "        self.rank=rank\n",
    "    \n",
    "    def __str__(self):\n",
    "        return f\"{self.rank} of {self.suit}\""
   ]
  },
  {
   "cell_type": "code",
   "execution_count": 3,
   "metadata": {},
   "outputs": [
    {
     "name": "stdout",
     "output_type": "stream",
     "text": [
      "Three of Hearts\n"
     ]
    }
   ],
   "source": [
    "x=Card(\"Hearts\",\"Three\")\n",
    "print(x)"
   ]
  },
  {
   "cell_type": "code",
   "execution_count": 4,
   "metadata": {},
   "outputs": [
    {
     "data": {
      "text/plain": [
       "2"
      ]
     },
     "execution_count": 4,
     "metadata": {},
     "output_type": "execute_result"
    }
   ],
   "source": [
    "values[\"Two\"]"
   ]
  },
  {
   "cell_type": "markdown",
   "metadata": {},
   "source": [
    "**Step 3: Create a Deck Class**<br>\n",
    "Here we might store 52 card objects in a list that can later be shuffled. First, though, we need to *instantiate* all 52 unique card objects and add them to our list. So long as the Card class definition appears in our code, we can build Card objects inside our Deck \\_\\_init\\_\\_ method. Consider iterating over sequences of suits and ranks to build out each card. This might appear inside a Deck class \\_\\_init\\_\\_ method:\n",
    "\n",
    "    for suit in suits:\n",
    "        for rank in ranks:\n",
    "\n",
    "In addition to an \\_\\_init\\_\\_ method we'll want to add methods to shuffle our deck, and to deal out cards during gameplay.<br><br>\n",
    "OPTIONAL: We may never need to print the contents of the deck during gameplay, but having the ability to see the cards inside it may help troubleshoot any problems that occur during development. With this in mind, consider adding a \\_\\_str\\_\\_ method to the class definition."
   ]
  },
  {
   "cell_type": "code",
   "execution_count": 5,
   "metadata": {},
   "outputs": [],
   "source": [
    "class Deck:\n",
    "    \n",
    "    def __init__(self):\n",
    "        self.cards = []  # start with an empty list\n",
    "        for suit in suits:\n",
    "            for rank in ranks:\n",
    "                self.cards.append(Card(suit,rank))\n",
    "    \n",
    "    def __str__(self):\n",
    "        return f\"The deck consists of {len(self.deck)} cards\"\n",
    "\n",
    "    def shuffle(self):\n",
    "        random.shuffle(self.cards)\n",
    "        print(f\"The cards have been returned and the deck has been shuffled!\")\n",
    "        \n",
    "    def deal(self):\n",
    "        return self.cards.pop()\n",
    "        print(\"The top card has been dealt\")"
   ]
  },
  {
   "cell_type": "code",
   "execution_count": 13,
   "metadata": {},
   "outputs": [
    {
     "ename": "AttributeError",
     "evalue": "'Deck' object has no attribute 'deck'",
     "output_type": "error",
     "traceback": [
      "\u001b[1;31m---------------------------------------------------------------------------\u001b[0m",
      "\u001b[1;31mAttributeError\u001b[0m                            Traceback (most recent call last)",
      "\u001b[1;32m~\\AppData\\Local\\Temp/ipykernel_18012/2894886816.py\u001b[0m in \u001b[0;36m<module>\u001b[1;34m\u001b[0m\n\u001b[1;32m----> 1\u001b[1;33m \u001b[0mprint\u001b[0m\u001b[1;33m(\u001b[0m\u001b[1;34mf\"{test_deck.deck}\"\u001b[0m\u001b[1;33m)\u001b[0m\u001b[1;33m\u001b[0m\u001b[1;33m\u001b[0m\u001b[0m\n\u001b[0m",
      "\u001b[1;31mAttributeError\u001b[0m: 'Deck' object has no attribute 'deck'"
     ]
    }
   ],
   "source": [
    "print(f\"{test_deck.deck}\")"
   ]
  },
  {
   "cell_type": "code",
   "execution_count": null,
   "metadata": {},
   "outputs": [],
   "source": [
    "test_deck.shuffle()\n",
    "#random.shuffle(test_deck.cards)\n",
    "print(test_deck.cards[-1])"
   ]
  },
  {
   "cell_type": "markdown",
   "metadata": {},
   "source": [
    "TESTING: Just to see that everything works so far, let's see what our Deck looks like!"
   ]
  },
  {
   "cell_type": "code",
   "execution_count": 6,
   "metadata": {},
   "outputs": [
    {
     "name": "stdout",
     "output_type": "stream",
     "text": [
      "The cards have been returned and the deck has been shuffled!\n",
      "Nine of Diamonds\n",
      "Queen of Spades\n",
      "Six of Diamonds\n",
      "Five of Hearts\n",
      "Eight of Clubs\n",
      "Eight of Hearts\n",
      "Ace of Diamonds\n",
      "Queen of Clubs\n",
      "Queen of Hearts\n",
      "Ace of Spades\n",
      "Seven of Diamonds\n",
      "Six of Hearts\n",
      "Eight of Spades\n",
      "Two of Hearts\n",
      "Jack of Spades\n",
      "Two of Spades\n",
      "Nine of Hearts\n",
      "King of Hearts\n",
      "Four of Clubs\n",
      "Ten of Diamonds\n",
      "Nine of Spades\n",
      "Four of Hearts\n",
      "Ten of Spades\n",
      "Ten of Clubs\n",
      "Three of Diamonds\n",
      "Jack of Clubs\n",
      "King of Clubs\n",
      "Two of Clubs\n",
      "Five of Spades\n",
      "Ace of Hearts\n",
      "Six of Clubs\n",
      "King of Diamonds\n",
      "Seven of Spades\n",
      "Queen of Diamonds\n",
      "Four of Diamonds\n",
      "Ace of Clubs\n",
      "Seven of Clubs\n",
      "Five of Clubs\n",
      "Jack of Diamonds\n",
      "Five of Diamonds\n",
      "Three of Hearts\n",
      "Eight of Diamonds\n",
      "Three of Clubs\n",
      "Jack of Hearts\n",
      "Nine of Clubs\n",
      "King of Spades\n",
      "Two of Diamonds\n",
      "Ten of Hearts\n",
      "Seven of Hearts\n",
      "Four of Spades\n",
      "Three of Spades\n",
      "Six of Spades\n",
      "Six of Spades\n"
     ]
    }
   ],
   "source": [
    "test_deck = Deck()\n",
    "test_deck.shuffle()\n",
    "#random.shuffle(test_deck.cards)\n",
    "for obj in test_deck.cards:\n",
    "    print(obj)\n",
    "print(test_deck.cards[-1])"
   ]
  },
  {
   "cell_type": "code",
   "execution_count": null,
   "metadata": {},
   "outputs": [],
   "source": [
    "my_card=test_deck.deal()\n",
    "print(my_card)\n",
    "print(values[my_card.rank])"
   ]
  },
  {
   "cell_type": "markdown",
   "metadata": {},
   "source": [
    "Great! Now let's move on to our Hand class."
   ]
  },
  {
   "cell_type": "markdown",
   "metadata": {},
   "source": [
    "**Step 4: Create a Hand Class**<br>\n",
    "In addition to holding Card objects dealt from the Deck, the Hand class may be used to calculate the value of those cards using the values dictionary defined above. It may also need to adjust for the value of Aces when appropriate."
   ]
  },
  {
   "cell_type": "code",
   "execution_count": 15,
   "metadata": {},
   "outputs": [],
   "source": [
    "class Hand:\n",
    "    def __init__(self):\n",
    "        self.cards = []  # start with an empty list as we did in the Deck class\n",
    "        self.value = 0   # start with zero value\n",
    "        self.aces = 0    # add an attribute to keep track of aces\n",
    "    \n",
    "    def add_card(self,card):\n",
    "        self.cards.append(card)\n",
    "        self.value+=values[card.rank]\n",
    "    \n",
    "    def adjust_for_ace(self):\n",
    "        pass"
   ]
  },
  {
   "cell_type": "code",
   "execution_count": 16,
   "metadata": {},
   "outputs": [],
   "source": [
    "player=Hand()\n",
    "dealer=Hand()"
   ]
  },
  {
   "cell_type": "code",
   "execution_count": null,
   "metadata": {},
   "outputs": [],
   "source": [
    "player.add_card(test_deck.deal())\n",
    "print(player.cards[0])\n",
    "len(player.cards)\n",
    "#values[player.cards[0].rank]"
   ]
  },
  {
   "cell_type": "code",
   "execution_count": null,
   "metadata": {},
   "outputs": [],
   "source": [
    "player.value\n",
    "dealer.value"
   ]
  },
  {
   "cell_type": "code",
   "execution_count": 66,
   "metadata": {},
   "outputs": [
    {
     "data": {
      "text/plain": [
       "2"
      ]
     },
     "execution_count": 66,
     "metadata": {},
     "output_type": "execute_result"
    }
   ],
   "source": [
    "len(dealer.cards)"
   ]
  },
  {
   "cell_type": "code",
   "execution_count": 49,
   "metadata": {},
   "outputs": [
    {
     "name": "stdout",
     "output_type": "stream",
     "text": [
      "[<__main__.Card object at 0x0000021CB2E26580>, <__main__.Card object at 0x0000021CB2D57940>]\n"
     ]
    }
   ],
   "source": []
  },
  {
   "cell_type": "markdown",
   "metadata": {},
   "source": [
    "**Step 5: Create a Chips Class**<br>\n",
    "In addition to decks of cards and hands, we need to keep track of a Player's starting chips, bets, and ongoing winnings. This could be done using global variables, but in the spirit of object oriented programming, let's make a Chips class instead!"
   ]
  },
  {
   "cell_type": "code",
   "execution_count": 17,
   "metadata": {},
   "outputs": [],
   "source": [
    "class Chips:\n",
    "    \n",
    "    def __init__(self):\n",
    "        self.total = 100  # This can be set to a default value or supplied by a user input\n",
    "        self.bet = 0\n",
    "        \n",
    "    def win_bet(self):\n",
    "        self.total+=self.bet\n",
    "    \n",
    "    def lose_bet(self):\n",
    "        self.total-=self.bet"
   ]
  },
  {
   "cell_type": "code",
   "execution_count": 37,
   "metadata": {},
   "outputs": [],
   "source": [
    "player_chips=Chips()"
   ]
  },
  {
   "cell_type": "code",
   "execution_count": 42,
   "metadata": {},
   "outputs": [],
   "source": [
    "player_chips.lose_bet()"
   ]
  },
  {
   "cell_type": "code",
   "execution_count": 47,
   "metadata": {},
   "outputs": [
    {
     "data": {
      "text/plain": [
       "100"
      ]
     },
     "execution_count": 47,
     "metadata": {},
     "output_type": "execute_result"
    }
   ],
   "source": [
    "player_chips.total"
   ]
  },
  {
   "cell_type": "code",
   "execution_count": 48,
   "metadata": {},
   "outputs": [
    {
     "name": "stdout",
     "output_type": "stream",
     "text": [
      "The dealer busted. You won the bet!\n"
     ]
    }
   ],
   "source": [
    "dealer_busts()"
   ]
  },
  {
   "cell_type": "markdown",
   "metadata": {},
   "source": [
    "### Function Defintions\n",
    "A lot of steps are going to be repetitive. That's where functions come in! The following steps are guidelines - add or remove functions as needed in your own program."
   ]
  },
  {
   "cell_type": "markdown",
   "metadata": {},
   "source": [
    "**Step 6: Write a function for taking bets**<br>\n",
    "Since we're asking the user for an integer value, this would be a good place to use <code>try</code>/<code>except</code>. Remember to check that a Player's bet can be covered by their available chips."
   ]
  },
  {
   "cell_type": "code",
   "execution_count": 18,
   "metadata": {},
   "outputs": [],
   "source": [
    "def take_bet():\n",
    "    while True:\n",
    "        try:\n",
    "            player_chips.bet=int(input(\"Player, please choose your bet: \"))\n",
    "        except ValueError:\n",
    "            print(\"The bet can only be integer.\")\n",
    "        else:\n",
    "            if player_chips.total<player_chips.bet:\n",
    "                print(\"You don't have enough chips to bet this\")\n",
    "            else:\n",
    "                break\n",
    "        "
   ]
  },
  {
   "cell_type": "code",
   "execution_count": 32,
   "metadata": {},
   "outputs": [
    {
     "data": {
      "text/plain": [
       "90"
      ]
     },
     "execution_count": 32,
     "metadata": {},
     "output_type": "execute_result"
    }
   ],
   "source": [
    "player_chips.bet"
   ]
  },
  {
   "cell_type": "code",
   "execution_count": null,
   "metadata": {},
   "outputs": [],
   "source": [
    "take_bet()"
   ]
  },
  {
   "cell_type": "markdown",
   "metadata": {},
   "source": [
    "**Step 7: Write a function for taking hits**<br>\n",
    "Either player can take hits until they bust. This function will be called during gameplay anytime a Player requests a hit, or a Dealer's hand is less than 17. It should take in Deck and Hand objects as arguments, and deal one card off the deck and add it to the Hand. You may want it to check for aces in the event that a player's hand exceeds 21."
   ]
  },
  {
   "cell_type": "code",
   "execution_count": 19,
   "metadata": {},
   "outputs": [
    {
     "data": {
      "text/plain": [
       "'   if hand==dealer and dealer.value<17:\\n  \\n elif hand.value>21:\\n        print(f\"You drew {player.cards[-1]} and got BUSTED\")\\n    else:\\n        print(f\"You drew {player.cards[-1]} and your total value is {player.value}\")\\n'"
      ]
     },
     "execution_count": 19,
     "metadata": {},
     "output_type": "execute_result"
    }
   ],
   "source": [
    "def hit(deck,hand):\n",
    "    hand.add_card(test_deck.deal())\n",
    "    \n",
    "'''   if hand==dealer and dealer.value<17:\n",
    "  \n",
    " elif hand.value>21:\n",
    "        print(f\"You drew {player.cards[-1]} and got BUSTED\")\n",
    "    else:\n",
    "        print(f\"You drew {player.cards[-1]} and your total value is {player.value}\")\n",
    "'''  \n",
    "        "
   ]
  },
  {
   "cell_type": "code",
   "execution_count": 20,
   "metadata": {},
   "outputs": [
    {
     "ename": "IndexError",
     "evalue": "list index out of range",
     "output_type": "error",
     "traceback": [
      "\u001b[1;31m---------------------------------------------------------------------------\u001b[0m",
      "\u001b[1;31mIndexError\u001b[0m                                Traceback (most recent call last)",
      "\u001b[1;32m~\\AppData\\Local\\Temp/ipykernel_18012/3981841614.py\u001b[0m in \u001b[0;36m<module>\u001b[1;34m\u001b[0m\n\u001b[0;32m      3\u001b[0m \u001b[0mhit\u001b[0m\u001b[1;33m(\u001b[0m\u001b[0mtest_deck\u001b[0m\u001b[1;33m,\u001b[0m\u001b[0mplayer\u001b[0m\u001b[1;33m)\u001b[0m\u001b[1;33m\u001b[0m\u001b[1;33m\u001b[0m\u001b[0m\n\u001b[0;32m      4\u001b[0m \u001b[1;33m\u001b[0m\u001b[0m\n\u001b[1;32m----> 5\u001b[1;33m \u001b[0mprint\u001b[0m\u001b[1;33m(\u001b[0m\u001b[0mdealer\u001b[0m\u001b[1;33m.\u001b[0m\u001b[0mcards\u001b[0m\u001b[1;33m[\u001b[0m\u001b[1;36m4\u001b[0m\u001b[1;33m]\u001b[0m\u001b[1;33m)\u001b[0m\u001b[1;33m\u001b[0m\u001b[1;33m\u001b[0m\u001b[0m\n\u001b[0m\u001b[0;32m      6\u001b[0m \u001b[0mprint\u001b[0m\u001b[1;33m(\u001b[0m\u001b[0mplayer\u001b[0m\u001b[1;33m.\u001b[0m\u001b[0mcards\u001b[0m\u001b[1;33m[\u001b[0m\u001b[1;36m4\u001b[0m\u001b[1;33m]\u001b[0m\u001b[1;33m)\u001b[0m\u001b[1;33m\u001b[0m\u001b[1;33m\u001b[0m\u001b[0m\n",
      "\u001b[1;31mIndexError\u001b[0m: list index out of range"
     ]
    }
   ],
   "source": [
    "hit(test_deck,dealer)\n",
    "\n",
    "hit(test_deck,player)\n",
    "\n",
    "print(dealer.cards[4])\n",
    "print(player.cards[4])"
   ]
  },
  {
   "cell_type": "markdown",
   "metadata": {},
   "source": [
    "**Step 8: Write a function prompting the Player to Hit or Stand**<br>\n",
    "This function should accept the deck and the player's hand as arguments, and assign playing as a global variable.<br>\n",
    "If the Player Hits, employ the hit() function above. If the Player Stands, set the playing variable to False - this will control the behavior of a <code>while</code> loop later on in our code."
   ]
  },
  {
   "cell_type": "code",
   "execution_count": 29,
   "metadata": {},
   "outputs": [],
   "source": [
    "def hit_or_stand(deck,hand):\n",
    "    global playing  # to control an upcoming while loop\n",
    "    \n",
    "    while True:\n",
    "        x=input(f\"Your value is {hand.value}. Would you like to hit or stand? Enter h or s: \")\n",
    "        if x.lower()==\"h\":\n",
    "            hit(deck,hand)\n",
    "        elif x.lower()==\"s\":\n",
    "            print(f\"Player stands with a hand value of{hand.value}. Dealer is playing.\")\n",
    "            playing=False\n",
    "        else:\n",
    "            \"This is not valid\"\n",
    "            continue\n",
    "        break"
   ]
  },
  {
   "cell_type": "code",
   "execution_count": 30,
   "metadata": {},
   "outputs": [
    {
     "name": "stdout",
     "output_type": "stream",
     "text": [
      "Your value is 17. Would you like to hit or stand? Enter h or s: s\n",
      "Player stands with a hand value of17. Dealer is playing.\n"
     ]
    }
   ],
   "source": [
    "hit_or_stand(test_deck,dealer)"
   ]
  },
  {
   "cell_type": "markdown",
   "metadata": {},
   "source": [
    "**Step 9: Write functions to display cards**<br>\n",
    "When the game starts, and after each time Player takes a card, the dealer's first card is hidden and all of Player's cards are visible. At the end of the hand all cards are shown, and you may want to show each hand's total value. Write a function for each of these scenarios."
   ]
  },
  {
   "cell_type": "code",
   "execution_count": 25,
   "metadata": {},
   "outputs": [],
   "source": [
    "def show_some(player,dealer):\n",
    "    len(dealer.cards)\n",
    "    print(\"Dealer's hand:\\n <card hidden>\")\n",
    "    for i in range(1,len(dealer.cards)):\n",
    "        print(dealer.cards[i])\n",
    "    print(\"Player's hand:\")\n",
    "    for obj in range(len(player.cards)):\n",
    "        print(player.cards[obj])\n",
    "    \n",
    "def show_all(player,dealer):\n",
    "    len(dealer.cards)\n",
    "    for obj in range(len(dealer.cards)):\n",
    "        print(dealer.cards[obj])    \n",
    "    print(f\"Dealer's score: {dealer.value}\")\n",
    "    for obj in range(len(player.cards)):\n",
    "        print(player.cards[obj])\n",
    "    print(f\"Player's score: {player.value}\")"
   ]
  },
  {
   "cell_type": "code",
   "execution_count": 60,
   "metadata": {},
   "outputs": [
    {
     "name": "stdout",
     "output_type": "stream",
     "text": [
      "Dealer's hand:\n",
      " <card hidden>\n",
      "Four of Diamonds\n",
      "Player's hand:\n",
      "Ten of Clubs\n",
      "Four of Diamonds\n"
     ]
    }
   ],
   "source": [
    "show_some(player,dealer)"
   ]
  },
  {
   "cell_type": "code",
   "execution_count": 63,
   "metadata": {},
   "outputs": [
    {
     "name": "stdout",
     "output_type": "stream",
     "text": [
      "Ten of Clubs\n",
      "Four of Diamonds\n",
      "Dealer's score: 14\n",
      "Ace of Diamonds\n",
      "Ace of Spades\n",
      "Player's score: 22\n"
     ]
    }
   ],
   "source": [
    "show_all(player,dealer)"
   ]
  },
  {
   "cell_type": "markdown",
   "metadata": {},
   "source": [
    "**Step 10: Write functions to handle end of game scenarios**<br>\n",
    "Remember to pass player's hand, dealer's hand and chips as needed."
   ]
  },
  {
   "cell_type": "code",
   "execution_count": 49,
   "metadata": {},
   "outputs": [],
   "source": [
    "def player_busts():\n",
    "    player_chips.lose_bet()\n",
    "    print(\"BUSTED. The dealer wins the pot!\")\n",
    "    #test_deck=Deck()\n",
    "    #test_deck.shuffle()\n",
    "\n",
    "def player_wins():\n",
    "    player_chips.win_bet()\n",
    "    print(\"You won!\")\n",
    "    #test_deck=Deck()\n",
    "    #test_deck.shuffle()\n",
    "\n",
    "def dealer_busts():\n",
    "    player_chips.win_bet()\n",
    "    print(\"The dealer busted. You won the bet!\")\n",
    "    #test_deck=Deck()\n",
    "    #test_deck.shuffle()\n",
    "    \n",
    "def dealer_wins():\n",
    "    player_chips.lose_bet()\n",
    "    print(\"The dealer has won!\")\n",
    "    #test_deck=Deck()\n",
    "    #test_deck.shuffle()\n",
    "    \n",
    "def push():\n",
    "    pass"
   ]
  },
  {
   "cell_type": "markdown",
   "metadata": {},
   "source": [
    "### And now on to the game!!"
   ]
  },
  {
   "cell_type": "code",
   "execution_count": 66,
   "metadata": {},
   "outputs": [
    {
     "ename": "IndentationError",
     "evalue": "expected an indented block (Temp/ipykernel_18012/1339770754.py, line 26)",
     "output_type": "error",
     "traceback": [
      "\u001b[1;36m  File \u001b[1;32m\"C:\\Users\\kaore\\AppData\\Local\\Temp/ipykernel_18012/1339770754.py\"\u001b[1;36m, line \u001b[1;32m26\u001b[0m\n\u001b[1;33m    print(\"Welcome in my Black Jack Game\\n\")\u001b[0m\n\u001b[1;37m    ^\u001b[0m\n\u001b[1;31mIndentationError\u001b[0m\u001b[1;31m:\u001b[0m expected an indented block\n"
     ]
    }
   ],
   "source": [
    "    # Print an opening statement\n",
    "print(\"Welcome in my Black Jack Game\\n\")\n",
    "    \n",
    " # Create & shuffle the deck, deal two cards to each player\n",
    "test_deck=Deck()\n",
    "test_deck.shuffle()\n",
    "    \n",
    "player=Hand()\n",
    "hit(test_deck,player)\n",
    "hit(test_deck,player)\n",
    "    \n",
    "dealer=Hand()\n",
    "hit(test_deck,dealer)\n",
    "hit(test_deck,dealer)\n",
    "    \n",
    "      \n",
    "    # Set up the Player's chips\n",
    "player_chips=Chips()\n",
    "\n",
    "game_on=input(\"Do you wanna give it a try? Answer with y or n:\\n\")\n",
    "\n",
    "    \n",
    "    \n",
    "while game_on==\"y\":\n",
    "    # Print an opening statement\n",
    "    print(\"Welcome in my Black Jack Game\\n\")\n",
    "    \n",
    "    # Create & shuffle the deck, deal two cards to each player\n",
    "    test_deck=Deck()\n",
    "    test_deck.shuffle()\n",
    "    \n",
    "    player=Hand()\n",
    "    hit(test_deck,player)\n",
    "    hit(test_deck,player)\n",
    "    \n",
    "    dealer=Hand()\n",
    "    hit(test_deck,dealer)\n",
    "    hit(test_deck,dealer)\n",
    "    \n",
    "        \n",
    "    # Set up the Player's chips\n",
    "    #player_chips=Chips()\n",
    "    \n",
    "    # Prompt the Player for their bet\n",
    "    take_bet()\n",
    "    \n",
    "    # Show cards (but keep one dealer card hidden)\n",
    "    show_some(player,dealer)\n",
    " \n",
    "\n",
    "    \n",
    "    while playing:  # recall this variable from our hit_or_stand function\n",
    "        hit_or_stand(test_deck,player)\n",
    "        # Prompt for Player to Hit or Stand\n",
    "        \n",
    "        \n",
    "        # Show cards (but keep one dealer card hidden)\n",
    "        show_some(player,dealer)\n",
    "        \n",
    "        # If player's hand exceeds 21, run player_busts() and break out of loop\n",
    "        if player.value>21:\n",
    "            player_busts()\n",
    "            break\n",
    "\n",
    "    # If Player hasn't busted, play Dealer's hand until Dealer reaches 17\n",
    "    \n",
    "    print(\"Now is the dealer's turn to play\")\n",
    "    while dealer.value<player.value:\n",
    "        hit(test_deck,dealer)\n",
    "        # Show all cards\n",
    "    show_all(player,dealer)\n",
    "        # Run different winning scenarios\n",
    "    if dealer.value>21:\n",
    "        dealer_busts()\n",
    "    elif dealer.value>player.value:\n",
    "        dealer_wins()\n",
    "    elif player.value>dealer.value:\n",
    "        player_wins()\n",
    "    else:\n",
    "        push()\n",
    "        \n",
    "    # Inform Player of their chips total \n",
    "    if input(f\"You have {player_chips.total} chips. Do you wanna keep playing? Answer with y or n: \")==\"y\":\n",
    "        playing=True\n",
    "        continue\n",
    "    else:\n",
    "        print(\"Thanks for playing\")\n",
    "        break\n",
    "    # Ask to play again\n",
    "\n",
    "        #break"
   ]
  },
  {
   "cell_type": "markdown",
   "metadata": {},
   "source": [
    "### And that's it! Remember, these steps may differ significantly from your own solution. That's OK! Keep working on different sections of your program until you get the desired results. It takes a lot of time and patience! As always, feel free to post questions and comments to the QA Forums.\n",
    "# Good job!"
   ]
  },
  {
   "cell_type": "code",
   "execution_count": null,
   "metadata": {},
   "outputs": [],
   "source": []
  }
 ],
 "metadata": {
  "kernelspec": {
   "display_name": "Python 3 (ipykernel)",
   "language": "python",
   "name": "python3"
  },
  "language_info": {
   "codemirror_mode": {
    "name": "ipython",
    "version": 3
   },
   "file_extension": ".py",
   "mimetype": "text/x-python",
   "name": "python",
   "nbconvert_exporter": "python",
   "pygments_lexer": "ipython3",
   "version": "3.9.7"
  }
 },
 "nbformat": 4,
 "nbformat_minor": 1
}
