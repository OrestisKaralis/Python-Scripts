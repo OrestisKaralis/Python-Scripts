{
 "cells": [
  {
   "cell_type": "markdown",
   "metadata": {},
   "source": [
    "___\n",
    "\n",
    "<a href='https://www.udemy.com/user/joseportilla/'><img src='../../Pierian_Data_Logo.png'/></a>\n",
    "___\n",
    "<center><em>Content Copyright by Pierian Data</em></center>"
   ]
  },
  {
   "cell_type": "markdown",
   "metadata": {},
   "source": [
    "# Advanced Modules Exercise Puzzle\n",
    "\n",
    "It's time to test your new skills, this puzzle project will combine multiple skills sets, including unzipping files with Python, using os module to automatically search through lots of files.\n",
    "\n",
    "## Your Goal\n",
    "\n",
    "This is a puzzle, so we don't want to give you too much guidance and instead have you figure out things on your own.\n",
    "\n",
    "There is a .zip file called 'unzip_me_for_instructions.zip', unzip it, open the .txt file with Python, read the instructions and see if you can figure out what you need to do!\n",
    "\n",
    "**If you get stuck or don't know where to start, here is a [guide/hints](https://docs.google.com/document/d/1JxydUr4n4fSR0EwwuwT-aHia-yPK6r-oTBuVT2sqheo/edit?usp=sharing)**"
   ]
  },
  {
   "cell_type": "code",
   "execution_count": 177,
   "metadata": {},
   "outputs": [],
   "source": [
    "import shutil"
   ]
  },
  {
   "cell_type": "code",
   "execution_count": 181,
   "metadata": {},
   "outputs": [],
   "source": [
    "shutil.unpack_archive(\"unzip_me_for_instructions.zip\",\"\",\"zip\")"
   ]
  },
  {
   "cell_type": "code",
   "execution_count": 40,
   "metadata": {},
   "outputs": [
    {
     "data": {
      "text/plain": [
       "<re.Match object; span=(4, 7), match='del'>"
      ]
     },
     "execution_count": 40,
     "metadata": {},
     "output_type": "execute_result"
    }
   ],
   "source": [
    "re.search(r\"del\",text)"
   ]
  },
  {
   "cell_type": "code",
   "execution_count": 4,
   "metadata": {},
   "outputs": [],
   "source": [
    "import re\n",
    "text=\"abs del\""
   ]
  },
  {
   "cell_type": "code",
   "execution_count": 6,
   "metadata": {},
   "outputs": [
    {
     "data": {
      "text/plain": [
       "'C:\\\\Users\\\\kaore\\\\Documents\\\\Python Scripts\\\\Complete-Python-3-Bootcamp-master\\\\Complete-Python-3-Bootcamp-master\\\\12-Advanced Python Modules\\\\08-Advanced-Python-Module-Exercise'"
      ]
     },
     "execution_count": 6,
     "metadata": {},
     "output_type": "execute_result"
    }
   ],
   "source": [
    "pwd"
   ]
  },
  {
   "cell_type": "code",
   "execution_count": 122,
   "metadata": {},
   "outputs": [],
   "source": [
    "file=open(\"extracted_content\\\\Five\\\\AEITMYIRQLP.txt\",\"r\")"
   ]
  },
  {
   "cell_type": "code",
   "execution_count": 182,
   "metadata": {},
   "outputs": [
    {
     "name": "stdout",
     "output_type": "stream",
     "text": [
      "Eget potenti dictumstvivamus ullamcorper.Veniam nunc condimentum, dapibusnam zzril lacus sanctus venenatis mollis no nibh.Antesuspendisse vestibulum illum netus nullasuspendisse, labore consetetur eget.Accumsan sadipscing, libero metus habitant consequat est blandit fermentumfusce.Muspellentesque mus hac leo adipiscing enimnulla, justo nostra auctor convallis.Vestibulumnulla pulvinar libero.Leopraesent dictum lectusnullam, mollis sollicitudin scelerisque no.Sedfusce habitasse, mattis varius metusdonec habitant per.Venenatis magnis massa duo dapibusnam tristique.Imperdietaliquam dictum arcumorbi placerat, zzril imperdiet adipiscing massaphasellus hac dignissim.Nec invidunt tation.Leo blandit mauris ridiculus, dapibus eirmod sempermorbi ea malesuadanullam urnamorbi.Eum ametduis soluta.Erat turpis aaenean liberoduis montes, volutpatut vivamus libero.Sodalessed sagittis ultriciespellentesque, elitvivamus eum consectetuer nequeetiam accumsan nostra sadipscing imperdietaliquam.Ipsuminteger malesuada tortorvestibulum felis.Aliquam imperdiet dolore in, ullamcorper liberoduis nisised.Elitr pulvinarvestibulum consectetuer at, doming est cum nonumy maurisaenean in mi vulputate nullamauris.Arcu facilisi nonummy.Laoreet id auctor illum, veniam bibendum potenti ipsumcurabitur varius.Etiam interdumdonec massaphasellus eros eu pellentesque.Vel class auctormauris mollis liberoduis, litora aptent iriure justocras enimnulla semper quod.Esse accusam sodales vitae dapibusnam, nostra in justocras sagittis invidunt erat.Ac gravida.Platea feugait invidunt eu, adipiscing magnapraesent quod.Primis variuscras habitasse aaenean odio ultrices, minim sit himenaeos nisi nullamauris lacus justocras vestibulum.Temporsuspendisse dictumst pulvinarvestibulum diam.Consectetuer arcu leo cursus, per interdumdonec antesuspendisse congue duimauris quisaenean gubergren imperdiet rutrum.Variuscras nihil, telluspraesent hendrerit massaphasellus tellus possim.Amet sem, ut soluta wisi duimauris bibendum convallis.Rutrum laoreet vestibulum erosin lectus interdumdonec.Elitduis rebum soluta fames magnis nullamauris, dui himenaeos conubia mi viverra lacinia mauris risusdonec.Ea rebum nascetur habitasse, nunc dolor volutpatut duis zzril metusdonec interdumdonec.Imperdietaliquam kasd, arcu placerat consequat hac rebum facilisisproin.Ut quod enimsed placerat, nisi malesuadanullam pellentesque lacusut liberoduis ea rutrum.Auctormauris lorem te exerci mollis, mi massaphasellus aliquyam.Curabitur tortorcurabitur pulvinar consequat curae rhoncusmaecenas, eos erosin ullamcorper sollicitudin et vel est aptent.Faucibusvestibulum consequatduis semvestibulum auctormauris, aaenean elit consecteturpraesent nisised arcu nullamauris venenatis.Consequat velit purus pulvinar, nobis phasellus massa.Euismod aliquet tempus, rebum porta lacusnulla duo nec sociis ac.Fames hendrerit phasellus faucibusvestibulum porttitor wisi, convallis risusdonec est sociosqu a conubia iriure.Donec aliquet laoreetphasellus rhoncusmaecenas amet facilisis.Sem cras soluta, inceptos magnis doming aaenean faucibusvestibulum.Eratproin vel nostra iriure parturient habitasse, aliquip vero cursus tortorcurabitur consetetur sagittis labore gubergren.Libero elitvivamus elit massa, sedfusce tellus sociosqu litora proin nec.Nondonec fermentum feugiat dolor mus sed adipiscing metusdonec, nonumy sociosqu pharetra veniam dictum at.Viverra aptent feliscras.Lobortis per ipsuminteger suscipit cum inceptos ut, magna quammaecenas arcumorbi duimauris tellus platea fames.Habitant cubilia, habitasse duis telluspraesent dictumstvivamus urna nobis diam.Imperdietaliquam risus elitvivamus quod pellentesque lacusut.\n"
     ]
    }
   ],
   "source": [
    "for x in file:\n",
    "    print(x)"
   ]
  },
  {
   "cell_type": "code",
   "execution_count": 163,
   "metadata": {},
   "outputs": [
    {
     "name": "stdout",
     "output_type": "stream",
     "text": [
      "<re.Match object; span=(0, 4), match='Eget'>\n"
     ]
    },
    {
     "data": {
      "text/plain": [
       "<function TextIOWrapper.close()>"
      ]
     },
     "execution_count": 163,
     "metadata": {},
     "output_type": "execute_result"
    }
   ],
   "source": [
    "file=open(\"extracted_content\\\\Five\\\\AEITMYIRQLP.txt\",\"r\")\n",
    "print(re.search(r\"Eget\",x))\n",
    "file.close"
   ]
  },
  {
   "cell_type": "code",
   "execution_count": 124,
   "metadata": {},
   "outputs": [
    {
     "data": {
      "text/plain": [
       "<re.Match object; span=(0, 4), match='Eget'>"
      ]
     },
     "execution_count": 124,
     "metadata": {},
     "output_type": "execute_result"
    }
   ],
   "source": [
    "re.search(r\"Eget\",x)"
   ]
  },
  {
   "cell_type": "code",
   "execution_count": 183,
   "metadata": {},
   "outputs": [
    {
     "data": {
      "text/plain": [
       "<function TextIOWrapper.close()>"
      ]
     },
     "execution_count": 183,
     "metadata": {},
     "output_type": "execute_result"
    }
   ],
   "source": [
    "file.close"
   ]
  },
  {
   "cell_type": "code",
   "execution_count": 14,
   "metadata": {},
   "outputs": [],
   "source": [
    "import os"
   ]
  },
  {
   "cell_type": "code",
   "execution_count": 44,
   "metadata": {},
   "outputs": [
    {
     "data": {
      "text/plain": [
       "['.ipynb_checkpoints',\n",
       " '07-Advanced-Modules-Exercise-Puzzle.ipynb',\n",
       " '08-Advanced-Modules-Exercise-Solutions.ipynb',\n",
       " 'extracted_content',\n",
       " 'unzip_me_for_instructions.zip']"
      ]
     },
     "execution_count": 44,
     "metadata": {},
     "output_type": "execute_result"
    }
   ],
   "source": [
    "os.listdir()"
   ]
  },
  {
   "cell_type": "code",
   "execution_count": 45,
   "metadata": {},
   "outputs": [],
   "source": [
    "filepath=\"C:\\\\Users\\\\kaore\\\\Documents\\\\Python Scripts\\\\Complete-Python-3-Bootcamp-master\\\\Complete-Python-3-Bootcamp-master\\\\12-Advanced Python Modules\\\\08-Advanced-Python-Module-Exercise\\\\extracted_content\""
   ]
  },
  {
   "cell_type": "code",
   "execution_count": 175,
   "metadata": {},
   "outputs": [
    {
     "name": "stdout",
     "output_type": "stream",
     "text": [
      "Currently looking at folder: C:\\Users\\kaore\\Documents\\Python Scripts\\Complete-Python-3-Bootcamp-master\\Complete-Python-3-Bootcamp-master\\12-Advanced Python Modules\\08-Advanced-Python-Module-Exercise\\extracted_content\n",
      "\n",
      "\n",
      "THE SUBFOLDERS ARE: \n",
      "\t Subfolder: Five\n",
      "\t Subfolder: Four\n",
      "\t Subfolder: One\n",
      "\t Subfolder: Three\n",
      "\t Subfolder: Two\n",
      "\n",
      "\n",
      "THE FILES ARE: \n",
      "\t File: Five.AEITMYIRQLP.txt\n",
      "\t File: Instructions.txt\n",
      "None\n",
      "None\n",
      "None\n",
      "None\n",
      "None\n",
      "\n",
      "\n",
      "Currently looking at folder: C:\\Users\\kaore\\Documents\\Python Scripts\\Complete-Python-3-Bootcamp-master\\Complete-Python-3-Bootcamp-master\\12-Advanced Python Modules\\08-Advanced-Python-Module-Exercise\\extracted_content\\Five\n",
      "\n",
      "\n",
      "THE SUBFOLDERS ARE: \n",
      "\n",
      "\n",
      "THE FILES ARE: \n",
      "\t File: AEITMYIRQLP.txt\n",
      "None\n",
      "\t File: APJKSRITGGX.txt\n",
      "None\n",
      "\t File: AQKATDFGXTS.txt\n",
      "None\n",
      "\t File: ARLKFCWIAJE.txt\n",
      "None\n",
      "\t File: AXJGVPVEFAS.txt\n",
      "None\n",
      "\t File: BNUQEHCFRTG.txt\n",
      "None\n",
      "\t File: BSKJDRNEZQM.txt\n",
      "None\n",
      "\t File: BTYWAHLHKBM.txt\n",
      "None\n",
      "\t File: BUGKBZWRRVI.txt\n",
      "None\n",
      "\t File: BVBURZZCAPR.txt\n",
      "None\n",
      "\t File: CAHBEVSVDDN.txt\n",
      "None\n",
      "\t File: COMGMZBJAYE.txt\n",
      "None\n",
      "\t File: CRFSDGYFSHA.txt\n",
      "None\n",
      "\t File: CSCLFZCDYYC.txt\n",
      "None\n",
      "\t File: CXBVCTRBBIE.txt\n",
      "None\n",
      "\t File: DDLASODUVPX.txt\n",
      "None\n",
      "\t File: DHZBAAYEADM.txt\n",
      "None\n",
      "\t File: DQPZQLBCJYP.txt\n",
      "None\n",
      "\t File: DYOPIIVMZOO.txt\n",
      "None\n",
      "\t File: DZUWWXYIAEL.txt\n",
      "None\n",
      "\t File: EAAOEPSAWMQ.txt\n",
      "None\n",
      "\t File: EIPWXMQZJKU.txt\n",
      "None\n",
      "\t File: ESIZWBHMGDP.txt\n",
      "None\n",
      "\t File: ETCUEXWNBCF.txt\n",
      "None\n",
      "\t File: EYTCGIOYWIW.txt\n",
      "None\n",
      "\n",
      "\n",
      "Currently looking at folder: C:\\Users\\kaore\\Documents\\Python Scripts\\Complete-Python-3-Bootcamp-master\\Complete-Python-3-Bootcamp-master\\12-Advanced Python Modules\\08-Advanced-Python-Module-Exercise\\extracted_content\\Four\n",
      "\n",
      "\n",
      "THE SUBFOLDERS ARE: \n",
      "\n",
      "\n",
      "THE FILES ARE: \n",
      "\t File: ECIOBYCDVFI.txt\n",
      "None\n",
      "\t File: EMTGPSXQEJX.txt\n",
      "<re.Match object; span=(1062, 1074), match='719-266-2837'>\n",
      "\t File: EPRNUHRSESC.txt\n",
      "None\n",
      "\t File: ESDIZXHYCVY.txt\n",
      "None\n",
      "\t File: EXVQSVBQQQH.txt\n",
      "None\n",
      "\t File: QCTCKDIBBVG.txt\n",
      "None\n",
      "\t File: QCWCFLKNZMN.txt\n",
      "None\n",
      "\t File: QDDETWBHJYC.txt\n",
      "None\n",
      "\t File: QTDYYIFPHAU.txt\n",
      "None\n",
      "\t File: QVNJULGXNUM.txt\n",
      "None\n",
      "\t File: REAXWSOIQDY.txt\n",
      "None\n",
      "\t File: ROICPTWKXDX.txt\n",
      "None\n",
      "\t File: RSXOTNGKBML.txt\n",
      "None\n",
      "\t File: RXDARIDGKBF.txt\n",
      "None\n",
      "\t File: RYNXFYXMKHG.txt\n",
      "None\n",
      "\t File: TAKNAVDMZKV.txt\n",
      "None\n",
      "\t File: THPNEGKTJWI.txt\n",
      "None\n",
      "\t File: TJFMLJODVAD.txt\n",
      "None\n",
      "\t File: TKCZSFQNJTX.txt\n",
      "None\n",
      "\t File: TWUOYFCCYBQ.txt\n",
      "None\n",
      "\t File: WFSKPTXPFCH.txt\n",
      "None\n",
      "\t File: WHTOHQUWXIN.txt\n",
      "None\n",
      "\t File: WNJISWPEBRS.txt\n",
      "None\n",
      "\t File: WXDJDOGZEHN.txt\n",
      "None\n",
      "\t File: WYDLGSGGXKV.txt\n",
      "None\n",
      "\n",
      "\n",
      "Currently looking at folder: C:\\Users\\kaore\\Documents\\Python Scripts\\Complete-Python-3-Bootcamp-master\\Complete-Python-3-Bootcamp-master\\12-Advanced Python Modules\\08-Advanced-Python-Module-Exercise\\extracted_content\\One\n",
      "\n",
      "\n",
      "THE SUBFOLDERS ARE: \n",
      "\n",
      "\n",
      "THE FILES ARE: \n",
      "\t File: HDOHZHFSTTK.txt\n",
      "None\n",
      "\t File: HFUTPPAXDIS.txt\n",
      "None\n",
      "\t File: HMNZTLIFGPD.txt\n",
      "None\n",
      "\t File: HRQFTHKVJTL.txt\n",
      "None\n",
      "\t File: HVUTZEVMSBW.txt\n",
      "None\n",
      "\t File: JDLRVFCXYLU.txt\n",
      "None\n",
      "\t File: JEHBLZPUPSP.txt\n",
      "None\n",
      "\t File: JLTXKIGCWDL.txt\n",
      "None\n",
      "\t File: JQUOBKFUACN.txt\n",
      "None\n",
      "\t File: JTHSNBNPQSE.txt\n",
      "None\n",
      "\t File: KCXGNQCZBLO.txt\n",
      "None\n",
      "\t File: KFIUZFERLET.txt\n",
      "None\n",
      "\t File: KMMLGJOWLGI.txt\n",
      "None\n",
      "\t File: KNBSKDREHQU.txt\n",
      "None\n",
      "\t File: KTXDHIOKAUI.txt\n",
      "None\n",
      "\t File: LDGOCUQJNNS.txt\n",
      "None\n",
      "\t File: LFEATJAAYDC.txt\n",
      "None\n",
      "\t File: LHODFIKVTQA.txt\n",
      "None\n",
      "\t File: LIFDHOFKWOI.txt\n",
      "None\n",
      "\t File: LPNDVDXPZIG.txt\n",
      "None\n",
      "\t File: PDJMSMNKIRM.txt\n",
      "None\n",
      "\t File: PHWAVPEKAER.txt\n",
      "None\n",
      "\t File: PLYCGPVEAWO.txt\n",
      "None\n",
      "\t File: PQNVCVJINAR.txt\n",
      "None\n",
      "\t File: PTOBBCJYURJ.txt\n",
      "None\n",
      "\n",
      "\n",
      "Currently looking at folder: C:\\Users\\kaore\\Documents\\Python Scripts\\Complete-Python-3-Bootcamp-master\\Complete-Python-3-Bootcamp-master\\12-Advanced Python Modules\\08-Advanced-Python-Module-Exercise\\extracted_content\\Three\n",
      "\n",
      "\n",
      "THE SUBFOLDERS ARE: \n",
      "\n",
      "\n",
      "THE FILES ARE: \n",
      "\t File: VAQIJTDOFUJ.txt\n",
      "None\n",
      "\t File: VCFJCGJFBIH.txt\n",
      "None\n",
      "\t File: VSXFSTABZDY.txt\n",
      "None\n",
      "\t File: VVHFVZUNLOO.txt\n",
      "None\n",
      "\t File: VVKGWLRMHLU.txt\n",
      "None\n",
      "\t File: XAJMCPEWFNI.txt\n",
      "None\n",
      "\t File: XFHJOTNPEJG.txt\n",
      "None\n",
      "\t File: XHZPVUQTXIO.txt\n",
      "None\n",
      "\t File: XJCWENFFGHB.txt\n",
      "None\n",
      "\t File: XVMPVSVYKFR.txt\n",
      "None\n",
      "\t File: YCESZHJDBXH.txt\n",
      "None\n",
      "\t File: YDQFMWXOUMW.txt\n",
      "None\n",
      "\t File: YQBIUHSUEVW.txt\n",
      "None\n",
      "\t File: YQRNCMNFFHW.txt\n",
      "None\n",
      "\t File: YYIZGBTQHZP.txt\n",
      "None\n",
      "\t File: ZEZKKRBIZEB.txt\n",
      "None\n",
      "\t File: ZKQJXAYKPVD.txt\n",
      "None\n",
      "\t File: ZOWVXWPOGWP.txt\n",
      "None\n",
      "\t File: ZXEZRQXZNPG.txt\n",
      "None\n",
      "\t File: ZXIBJMPROKW.txt\n",
      "None\n",
      "\n",
      "\n",
      "Currently looking at folder: C:\\Users\\kaore\\Documents\\Python Scripts\\Complete-Python-3-Bootcamp-master\\Complete-Python-3-Bootcamp-master\\12-Advanced Python Modules\\08-Advanced-Python-Module-Exercise\\extracted_content\\Two\n",
      "\n",
      "\n",
      "THE SUBFOLDERS ARE: \n",
      "\n",
      "\n",
      "THE FILES ARE: \n",
      "\t File: GKQBQRCTNNK.txt\n",
      "None\n",
      "\t File: GMMQQUBMJNR.txt\n",
      "None\n",
      "\t File: GQTJJORZBXY.txt\n",
      "None\n",
      "\t File: GTOTCIWMDBY.txt\n",
      "None\n",
      "\t File: GXYSEPAFRTP.txt\n",
      "None\n",
      "\t File: HARDNJGDRBC.txt\n",
      "None\n",
      "\t File: HEORIXOTANT.txt\n",
      "None\n",
      "\t File: HMUTDOVNYTV.txt\n",
      "None\n",
      "\t File: HMZXPBOPRAE.txt\n",
      "None\n",
      "\t File: HTOHSTYXTCO.txt\n",
      "None\n",
      "\t File: LCJZYDHBFRM.txt\n",
      "None\n",
      "\t File: LSQSTGPIGIY.txt\n",
      "None\n",
      "\t File: LULTNYAQEJG.txt\n",
      "None\n",
      "\t File: LVMBINRBJXL.txt\n",
      "None\n",
      "\t File: LYZEQCVYNEZ.txt\n",
      "None\n",
      "\t File: OHZOUOSFJQC.txt\n",
      "None\n",
      "\t File: OIHMLGMWTHL.txt\n",
      "None\n",
      "\t File: OKWFOOYTXFU.txt\n",
      "None\n",
      "\t File: OMWIMVRCMYM.txt\n",
      "None\n",
      "\t File: OYMAGXAGWHJ.txt\n",
      "None\n",
      "\t File: SIKFPPLCJDN.txt\n",
      "None\n",
      "\t File: SJMJLDGPBSJ.txt\n",
      "None\n",
      "\t File: SOFUJYXTIMK.txt\n",
      "None\n",
      "\t File: SPDZYGDHEWO.txt\n",
      "None\n",
      "\t File: SWOFXREEHWA.txt\n",
      "None\n",
      "\n",
      "\n"
     ]
    }
   ],
   "source": [
    "for folder , sub_folders , files in os.walk(filepath):\n",
    "    \n",
    "    print(\"Currently looking at folder: \"+ folder)\n",
    "    print('\\n')\n",
    "    print(\"THE SUBFOLDERS ARE: \")\n",
    "    for sub_fold in sub_folders:\n",
    "        print(\"\\t Subfolder: \"+sub_fold )\n",
    "    \n",
    "    print('\\n')\n",
    "    \n",
    "    print(\"THE FILES ARE: \")\n",
    "    for f in files:\n",
    "        print(\"\\t File: \"+f)\n",
    "        #print(f\"dir:{folder}\")\n",
    "        #print(f[:-4])\n",
    "        text=open(f\"{folder}\\\\{f}\",\"r\")\n",
    "        for word in text:\n",
    "            print(re.search(r\"\\d{3}-\\d{3}-\\d{4}\",word))\n",
    "        text.close\n",
    "        \n",
    "    print('\\n')\n",
    "    \n",
    "    # Now look at subfolders"
   ]
  },
  {
   "cell_type": "code",
   "execution_count": 164,
   "metadata": {},
   "outputs": [
    {
     "name": "stdout",
     "output_type": "stream",
     "text": [
      "<re.Match object; span=(5, 12), match='potenti'>\n"
     ]
    }
   ],
   "source": [
    "textfile = open(\"extracted_content\\\\Five\\\\AEITMYIRQLP.txt\", 'r')\n",
    "filetext = textfile.read()\n",
    "print(re.search(r\"potenti\", filetext))\n",
    "textfile.close()"
   ]
  },
  {
   "cell_type": "code",
   "execution_count": 127,
   "metadata": {},
   "outputs": [
    {
     "name": "stdout",
     "output_type": "stream",
     "text": [
      "abc\n"
     ]
    }
   ],
   "source": [
    "string=\"abc.def\"\n",
    "print(string[:-4])"
   ]
  },
  {
   "cell_type": "code",
   "execution_count": null,
   "metadata": {},
   "outputs": [],
   "source": []
  }
 ],
 "metadata": {
  "anaconda-cloud": {},
  "kernelspec": {
   "display_name": "Python 3 (ipykernel)",
   "language": "python",
   "name": "python3"
  },
  "language_info": {
   "codemirror_mode": {
    "name": "ipython",
    "version": 3
   },
   "file_extension": ".py",
   "mimetype": "text/x-python",
   "name": "python",
   "nbconvert_exporter": "python",
   "pygments_lexer": "ipython3",
   "version": "3.9.7"
  }
 },
 "nbformat": 4,
 "nbformat_minor": 2
}
